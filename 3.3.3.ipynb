{
 "cells": [
  {
   "cell_type": "markdown",
   "metadata": {},
   "source": [
    "## 3.3.3 循环结构\n",
    "&emsp;&emsp;循环结构是指程序中满足某一条件时要重复执行某些语句，直到条件为假时才可终止循环。在循环结构中的关键是：满足什么条件时执行循环？重复执行哪些步骤？\n",
    "\n",
    "&emsp;&emsp;Python语言提供了有两种循环语句：while语句和for语句是迭代循环语句。\n",
    "### 1. while语句\n",
    "&emsp;&emsp;while循环语句的语法格式为：\n",
    "\n",
    "&emsp;&emsp;&emsp;&emsp;while <条件表达式> ：\n",
    "\n",
    "&emsp;&emsp;&emsp;&emsp;&emsp;&emsp;<语句块>\n",
    "\n",
    "&emsp;&emsp;条件表达式为真时，执行缩进格式中的语句块，再次计算条件表达式值，若为True继续执行循环语句块，若为False退出循环结构。\n",
    "\n",
    "&emsp;&emsp;**例3-3-5** 用循环语句while实现的1~100的累加和计算。\n",
    "\n",
    "&emsp;&emsp;程序完整实现代码如下："
   ]
  },
  {
   "cell_type": "code",
   "execution_count": 2,
   "metadata": {},
   "outputs": [
    {
     "name": "stdout",
     "output_type": "stream",
     "text": [
      "1~100的累加和为:5050\n"
     ]
    }
   ],
   "source": [
    "total=0\n",
    "i=0\n",
    "while i<=100:\n",
    "     total=total+i\n",
    "     i=i+1\n",
    "print(\"1~100的累加和为:{}\".format(total))"
   ]
  },
  {
   "cell_type": "markdown",
   "metadata": {},
   "source": [
    "### 2. for语句\n",
    "&emsp;&emsp;for循环语句的语法如下：\n",
    "\n",
    "&emsp;&emsp;&emsp;&emsp;for <变量> in <可迭代对象> :\n",
    "\n",
    "&emsp;&emsp;&emsp;&emsp;&emsp;&emsp;< 语句块>\n",
    "\n",
    "&emsp;&emsp;迭代是访问聚合数据对象的一种方式。迭代器对象从聚合的第一个元素开始访问，直到所有的元素被访问完结束，产生一个序列。支持迭代的对象统称为可迭代对象Iterable，Python的组合数据类型都是可迭代对象，如list, tuple, dict, set, str等。\n",
    "\n",
    "&emsp;&emsp;for循环就是依次访问这个可迭代对象中的第一个元素到最后一个元素并赋值给循环变量，称之为一次遍历。\n",
    "\n",
    "&emsp;&emsp;**例3-3-6** 将字符串对象s中的字符以一列方式显示。\n",
    "\n",
    "&emsp;&emsp;程序完整实现代码如下："
   ]
  },
  {
   "cell_type": "code",
   "execution_count": 1,
   "metadata": {},
   "outputs": [
    {
     "name": "stdout",
     "output_type": "stream",
     "text": [
      "P\n",
      "y\n",
      "t\n",
      "h\n",
      "o\n",
      "n\n"
     ]
    }
   ],
   "source": [
    "s=\"Python\"\n",
    "for c in s:\n",
    "    print(c)"
   ]
  },
  {
   "cell_type": "markdown",
   "metadata": {},
   "source": [
    "&emsp;&emsp;说明：本例中，每循环一次，变量c依次取s中的一个字符，执行一次print(c)语句，print语句输出换行，获得一列字符输出。"
   ]
  },
  {
   "cell_type": "markdown",
   "metadata": {},
   "source": [
    "&emsp;&emsp;使用Python中内置的函数range()，可以创建一个从start到end-1，步长为step的有序的整数数列。语法如下：\n",
    "\n",
    "&emsp;&emsp;range(start,end,step )\n",
    "\n",
    "&emsp;&emsp;需要注意的是：start和end组成了半开区间，数列的终值取不到end。例如：range(2,12,2),创建数列2，4，6，8，10。步长参数省略，默认为1，例如range(3，6)，创建数列3，4，5。 一个参数时表示end，获得从0开始到end-1，间隔为1的数列，例如range(5)，创建数列0，1，2，3，4。step不可以为零，否则将发生错误。\n",
    "\n",
    "&emsp;&emsp;**例3-3-7** 使用for语句实现求1~100的累加和。\n",
    "\n",
    "&emsp;&emsp;程序完整实现代码如下："
   ]
  },
  {
   "cell_type": "code",
   "execution_count": 1,
   "metadata": {},
   "outputs": [
    {
     "name": "stdout",
     "output_type": "stream",
     "text": [
      "1~100的累加和为:5050\n"
     ]
    }
   ],
   "source": [
    "total=0\n",
    "for i in range(1,101):\n",
    "    total=total+i\n",
    "print(\"1~100的累加和为:{}\".format(total))"
   ]
  },
  {
   "cell_type": "markdown",
   "metadata": {},
   "source": [
    "### 3. break和continue语句\n",
    "&emsp;&emsp;在循环的过程中，可使用break和continue循环控制语句来控制循环的执行。\n",
    "\n",
    "&emsp;&emsp;当break语句在循环结构中执行时，它会忽视后面的代码块，立即跳出其所在的最内层的循环结构，转而执行该内层循环结构后面的语句。\n",
    "\n",
    "&emsp;&emsp;与break语句不同，当continue语句在循环结构中执行时，并不会退出循环结构，而是立即结束本次循环，重新开始下一轮循环，也就是说，跳过循环体中在continue语句之后的所有语句，继续下一轮循环。\n",
    "\n",
    "&emsp;&emsp;**例3-3-8** break语句控制循环示例\n",
    "\n",
    "&emsp;&emsp;程序完整实现代码如下："
   ]
  },
  {
   "cell_type": "code",
   "execution_count": 1,
   "metadata": {},
   "outputs": [
    {
     "name": "stdout",
     "output_type": "stream",
     "text": [
      "2\n"
     ]
    }
   ],
   "source": [
    "n = 1\n",
    "while n < 10:\n",
    "    n = n + 1\n",
    "    if n%2!=0:        #如果n是奇数，执行break语句\n",
    "        break        # break语句会退出循环\n",
    "    print(n)"
   ]
  },
  {
   "cell_type": "markdown",
   "metadata": {},
   "source": [
    "&emsp;&emsp;**例3-3-9** continue语句控制循环示例\n",
    "\n",
    "&emsp;&emsp;程序完整实现代码如下："
   ]
  },
  {
   "cell_type": "code",
   "execution_count": 2,
   "metadata": {},
   "outputs": [
    {
     "name": "stdout",
     "output_type": "stream",
     "text": [
      "2\n",
      "4\n",
      "6\n",
      "8\n",
      "10\n"
     ]
    }
   ],
   "source": [
    "n = 1\n",
    "while n < 10:\n",
    "    n = n + 1\n",
    "    if n%2!=0:    #如果n是奇数，执行continue语句\n",
    "        continue  #continue语句会直接继续下一次循环，不执行print()语句\n",
    "    print(n)"
   ]
  }
 ],
 "metadata": {
  "kernelspec": {
   "display_name": "Python 3",
   "language": "python",
   "name": "python3"
  },
  "language_info": {
   "codemirror_mode": {
    "name": "ipython",
    "version": 3
   },
   "file_extension": ".py",
   "mimetype": "text/x-python",
   "name": "python",
   "nbconvert_exporter": "python",
   "pygments_lexer": "ipython3",
   "version": "3.8.3"
  }
 },
 "nbformat": 4,
 "nbformat_minor": 4
}
