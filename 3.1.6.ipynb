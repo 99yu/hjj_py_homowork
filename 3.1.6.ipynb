{
 "cells": [
  {
   "cell_type": "markdown",
   "metadata": {},
   "source": [
    "## 3.1.6 输入与输出\n",
    "&emsp;&emsp;计算机程序都是为了执行一个特定的任务，有了输入，用户才能告诉计算机程序所需的信息，有了输出，程序运行后才能告诉用户任务的结果。\n",
    "### 1. 输入\n",
    "#### （1）input()函数\n",
    "&emsp;&emsp;Python提供内置的input()函数，用于在程序运行时接收用户的键盘输入。\n",
    "\n",
    "&emsp;&emsp;input()函数的使用方法为：\n",
    "\n",
    "&emsp;&emsp;&emsp;&emsp;<变量>=input([<提示文本串>])\n",
    "\n",
    "&emsp;&emsp;**例3-1-18** 输入语句示例，返回值为字符串类型的数据"
   ]
  },
  {
   "cell_type": "code",
   "execution_count": 1,
   "metadata": {},
   "outputs": [
    {
     "name": "stdout",
     "output_type": "stream",
     "text": [
      "请输入：Google\n"
     ]
    }
   ],
   "source": [
    "s = input(\"请输入：\")"
   ]
  },
  {
   "cell_type": "code",
   "execution_count": 2,
   "metadata": {},
   "outputs": [
    {
     "name": "stdout",
     "output_type": "stream",
     "text": [
      "你输入的内容是:  Google\n"
     ]
    }
   ],
   "source": [
    "print (\"你输入的内容是: \", s)"
   ]
  },
  {
   "cell_type": "markdown",
   "metadata": {},
   "source": [
    "#### （2）int()、float()函数\n",
    "&emsp;&emsp;input()函数只能返回字符串数据类型，当需要返回数值数据时，可以使用内置函数int()和float()将字符转换为对应类型数值。\n",
    "\n",
    "&emsp;&emsp;**例3-1-19** 输入语句示例，返回值为相应的数值型数据类型"
   ]
  },
  {
   "cell_type": "code",
   "execution_count": 3,
   "metadata": {},
   "outputs": [
    {
     "name": "stdout",
     "output_type": "stream",
     "text": [
      "请输入整数：45\n"
     ]
    }
   ],
   "source": [
    "num=int(input(\"请输入整数：\"))    #转换成int类型"
   ]
  },
  {
   "cell_type": "code",
   "execution_count": 4,
   "metadata": {},
   "outputs": [
    {
     "data": {
      "text/plain": [
       "int"
      ]
     },
     "execution_count": 4,
     "metadata": {},
     "output_type": "execute_result"
    }
   ],
   "source": [
    "type(num)"
   ]
  },
  {
   "cell_type": "code",
   "execution_count": 5,
   "metadata": {},
   "outputs": [
    {
     "name": "stdout",
     "output_type": "stream",
     "text": [
      "请输入浮点数：1.23\n"
     ]
    }
   ],
   "source": [
    "dig= float(input(\"请输入浮点数：\"))    #转换成float类型"
   ]
  },
  {
   "cell_type": "code",
   "execution_count": 6,
   "metadata": {},
   "outputs": [
    {
     "data": {
      "text/plain": [
       "float"
      ]
     },
     "execution_count": 6,
     "metadata": {},
     "output_type": "execute_result"
    }
   ],
   "source": [
    "type(dig)"
   ]
  },
  {
   "cell_type": "markdown",
   "metadata": {},
   "source": [
    "### 2. 输出\n",
    "#### （1）print()函数\n",
    "&emsp;&emsp;Python提供内置print()函数用于输出显示数据。print()函数的一般使用方式为：\n",
    "\n",
    "&emsp;&emsp;&emsp;&emsp;print(value, ..., sep=' ', end='\\n')\n",
    "* 参数value表示输出对象，可以是变量、常数、字符串等。value后的...表示可以列出多个输出对象，以逗号间隔。\n",
    "* 参数sep表示多个输出对象显示时的分隔符号，默认值为空格。\n",
    "* 参数end表示print()函数的结束符号，默认值为换行符，也就是说print()默认输出后换行。\n",
    "\n",
    "&emsp;&emsp;**例3-1-20** 输出多个对象示例。"
   ]
  },
  {
   "cell_type": "code",
   "execution_count": 7,
   "metadata": {},
   "outputs": [],
   "source": [
    "x,y,z=10,20,30"
   ]
  },
  {
   "cell_type": "code",
   "execution_count": 8,
   "metadata": {},
   "outputs": [
    {
     "name": "stdout",
     "output_type": "stream",
     "text": [
      "10 20 30\n"
     ]
    }
   ],
   "source": [
    "print(x,y,z)           #输出多个对象，默认间隔一个空格"
   ]
  },
  {
   "cell_type": "code",
   "execution_count": 9,
   "metadata": {},
   "outputs": [
    {
     "name": "stdout",
     "output_type": "stream",
     "text": [
      "10,20,30\n"
     ]
    }
   ],
   "source": [
    "print(x,y,z,sep=\",\")    #输出多个对象，设置间隔一个逗号"
   ]
  },
  {
   "cell_type": "markdown",
   "metadata": {},
   "source": [
    "#### （2）格式化字符串方法format()\n",
    "&emsp;&emsp;format()方法基本语法是通过花括号{}来表示一个需要替换的值的格式，完成字符串的格式化一般格式如下：\n",
    "\n",
    "&emsp;&emsp;&emsp;&emsp;\"<输出字符串>\".format(参数列表)\n",
    "* 输出字符串：由{}和输出的具体文字组成。其中{}表示替换参数值的占位符。\n",
    "* 参数列表：包含一个或多个参数，每个参数用逗号分隔。\n",
    "\n",
    "&emsp;&emsp;其中占位符{}的格式为：\n",
    "\n",
    "&emsp;&emsp;&emsp;&emsp;{字段名:格式说明符}\n",
    "\n",
    "&emsp;&emsp;字段名可以省略，默认顺次，对应参数列表中的参数，也可以是整数，对应参数列表中的参数的序号，第一个参数的序号为0，依次递增。\n",
    "\n",
    "&emsp;&emsp;格式说明符在此不再展开，可自行查阅Python相关文档。简单举例如下：\n",
    "\n",
    "&emsp;&emsp;**例3-1-21** format()方法构造输出格式示例"
   ]
  },
  {
   "cell_type": "code",
   "execution_count": 10,
   "metadata": {},
   "outputs": [
    {
     "name": "stdout",
     "output_type": "stream",
     "text": [
      "你的名字:李白\n"
     ]
    }
   ],
   "source": [
    "name=input(\"你的名字:\")"
   ]
  },
  {
   "cell_type": "code",
   "execution_count": 11,
   "metadata": {},
   "outputs": [
    {
     "name": "stdout",
     "output_type": "stream",
     "text": [
      "你好，李白！\n"
     ]
    }
   ],
   "source": [
    "print(\"你好，{}！\".format(name))  #只有一个占位符{}，输出时用参数name值代替"
   ]
  },
  {
   "cell_type": "markdown",
   "metadata": {},
   "source": [
    "&emsp;&emsp;**例3-1-22** format()方法构造数值输出格式示例"
   ]
  },
  {
   "cell_type": "markdown",
   "metadata": {},
   "source": [
    "#计算指定边长的矩形面积。"
   ]
  },
  {
   "cell_type": "code",
   "execution_count": 12,
   "metadata": {},
   "outputs": [],
   "source": [
    "a,b=3,4"
   ]
  },
  {
   "cell_type": "code",
   "execution_count": 13,
   "metadata": {},
   "outputs": [],
   "source": [
    "c=a*b"
   ]
  },
  {
   "cell_type": "code",
   "execution_count": 14,
   "metadata": {},
   "outputs": [
    {
     "name": "stdout",
     "output_type": "stream",
     "text": [
      "边长是3和4的矩形面积是:  12.00\n"
     ]
    }
   ],
   "source": [
    "print('边长是{:d}和{:d}的矩形面积是:{:7.2f}'.format(a,b,c))"
   ]
  },
  {
   "cell_type": "markdown",
   "metadata": {},
   "source": [
    "&emsp;&emsp;其中：{:d}表示相应数据以十进制整数形式显示，{:7.2f}表示相应数据以浮点数，输出总宽度为7位形式，保留两位小数并四舍五入，宽度不足7位左边补空格。"
   ]
  }
 ],
 "metadata": {
  "kernelspec": {
   "display_name": "Python 3",
   "language": "python",
   "name": "python3"
  },
  "language_info": {
   "codemirror_mode": {
    "name": "ipython",
    "version": 3
   },
   "file_extension": ".py",
   "mimetype": "text/x-python",
   "name": "python",
   "nbconvert_exporter": "python",
   "pygments_lexer": "ipython3",
   "version": "3.8.3"
  }
 },
 "nbformat": 4,
 "nbformat_minor": 4
}
