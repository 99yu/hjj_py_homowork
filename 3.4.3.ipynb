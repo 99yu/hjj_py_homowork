{
 "cells": [
  {
   "cell_type": "markdown",
   "metadata": {},
   "source": [
    "## 3.4.3 lambda函数\n",
    "### 1. lambda函数的定义\n",
    "&emsp;&emsp;lambda函数是匿名函数，所谓匿名函数，通俗地说就是没有名字的函数。lambda函数没有名字。定义lambda函数的语法如下：\n",
    "\n",
    "&emsp;&emsp;&emsp;&emsp;lambda 参数列表: 表达式\n",
    "\n",
    "&emsp;&emsp;其中，lambda是Python预留的关键字，参数列表和表达式由用户自定义。参数列表的结构与Python中函数的参数列表是一样的。表达式是一个包含参数的表达式，并且表达式只能是单行的。lambda函数有输入和输出，输入是传入到参数列表的值，输出是根据表达式计算得到的值，lambda会返回一个函数对象。\n",
    "\n",
    "&emsp;&emsp;**例3-4-7** lambda函数使用示例"
   ]
  },
  {
   "cell_type": "code",
   "execution_count": 1,
   "metadata": {},
   "outputs": [],
   "source": [
    "z=lambda x,y:x+y"
   ]
  },
  {
   "cell_type": "code",
   "execution_count": 2,
   "metadata": {},
   "outputs": [
    {
     "data": {
      "text/plain": [
       "30"
      ]
     },
     "execution_count": 2,
     "metadata": {},
     "output_type": "execute_result"
    }
   ],
   "source": [
    "z(10,20)"
   ]
  },
  {
   "cell_type": "markdown",
   "metadata": {},
   "source": [
    "&emsp;&emsp;说明：z变量获取lambda返回的函数对象，使用z变量调用匿名函数，传递实参10，20给形参x和y，返回x，y的和30。"
   ]
  },
  {
   "cell_type": "markdown",
   "metadata": {},
   "source": [
    "### 2. lambda函数的应用\n",
    "&emsp;&emsp;lambda函数一般功能简单，单行表达式决定了lambda函数不可能完成复杂的逻辑，只能完成非常简单的功能。由于其实现的功能一目了然，甚至不需要专门的名字来说明。\n",
    "\n",
    "&emsp;&emsp;lambda函数比起def定义的用户自定义函数，行文更简单。但是它更适合的场合是作为Python的一些内置高阶函数的参数。\n",
    "\n",
    "* filter()函数\n",
    "\n",
    "&emsp;&emsp;filter()函数用于过滤序列，过滤掉不符合条件的元素，返回由符合条件元素组成的新filter对象，filter对象可以转化为序列对象。它的语法格式为：\n",
    "\n",
    "&emsp;&emsp;&emsp;&emsp;filter(function, iterable)\n",
    "\n",
    "&emsp;&emsp;filter()函数接收两个参数，第一个参数function为函数，第二个参数iterable为迭代序列。迭代序列中的每个元素作为参数传递给function函数进行判断，返回True或False，将返回True的元素放到filter对象中。此时可以用lambda函数作为function参数，用于指定过滤列表元素的条件。\n",
    "\n",
    "&emsp;&emsp;**例3-4-8** 将L列表中的偶数过滤出来，在filter()函数中使用lambda函数指定过滤条件"
   ]
  },
  {
   "cell_type": "code",
   "execution_count": 3,
   "metadata": {},
   "outputs": [],
   "source": [
    "L=[4, 1, 4, 3, 8, 2, 8, 5, 8, 9]"
   ]
  },
  {
   "cell_type": "code",
   "execution_count": 4,
   "metadata": {},
   "outputs": [],
   "source": [
    "Ld=list(filter(lambda x:x%2==0,L))"
   ]
  },
  {
   "cell_type": "code",
   "execution_count": 5,
   "metadata": {},
   "outputs": [
    {
     "data": {
      "text/plain": [
       "[4, 4, 8, 2, 8, 8]"
      ]
     },
     "execution_count": 5,
     "metadata": {},
     "output_type": "execute_result"
    }
   ],
   "source": [
    "Ld"
   ]
  },
  {
   "cell_type": "markdown",
   "metadata": {},
   "source": [
    "&emsp;&emsp;说明：lambda函数的参数x依次取L中的每一个数据项，当x能被2整除，lambda函数返回True，filter()函数就会留下x的值。"
   ]
  },
  {
   "cell_type": "markdown",
   "metadata": {},
   "source": [
    "* map()函数\n",
    "\n",
    "&emsp;&emsp;map()函数的作用是根据提供的函数对指定序列做映射。它的语法格式为：\n",
    "\n",
    "&emsp;&emsp;&emsp;&emsp;map(function, iterable, ...)\n",
    "\n",
    "&emsp;&emsp;第一个function参数为函数，第二个iterable参数为迭代序列，可以有多个迭代序列。以迭代序列中的每一个数据项作为参数调用 function 函数，返回包含function 函数所有返回值的新map对象，map对象可以转换为列表对象。此处用lambda函数作为function参数，用于指定对列表中每一个元素的共同操作。\n",
    "\n",
    "&emsp;&emsp;**例3-4-9** 将salary列表中的每一个工资值增加20%，在map()函数中使用lambda函数指定对序列的操作"
   ]
  },
  {
   "cell_type": "code",
   "execution_count": 6,
   "metadata": {},
   "outputs": [],
   "source": [
    "salary=[3580,5320,7380,4720,5269]"
   ]
  },
  {
   "cell_type": "code",
   "execution_count": 7,
   "metadata": {},
   "outputs": [],
   "source": [
    "m_salary=list(map(lambda x:x*1.20,salary))"
   ]
  },
  {
   "cell_type": "code",
   "execution_count": 8,
   "metadata": {},
   "outputs": [
    {
     "data": {
      "text/plain": [
       "[4296.0, 6384.0, 8856.0, 5664.0, 6322.8]"
      ]
     },
     "execution_count": 8,
     "metadata": {},
     "output_type": "execute_result"
    }
   ],
   "source": [
    "m_salary"
   ]
  },
  {
   "cell_type": "markdown",
   "metadata": {},
   "source": [
    "&emsp;&emsp;说明：调用lambda函数将列表salary中的每一个数据项传递给参数x，分别乘以1.2返回，其结果是[4296.0, 6384.0, 8856.0, 5664.0, 6322.8]。"
   ]
  }
 ],
 "metadata": {
  "kernelspec": {
   "display_name": "Python 3",
   "language": "python",
   "name": "python3"
  },
  "language_info": {
   "codemirror_mode": {
    "name": "ipython",
    "version": 3
   },
   "file_extension": ".py",
   "mimetype": "text/x-python",
   "name": "python",
   "nbconvert_exporter": "python",
   "pygments_lexer": "ipython3",
   "version": "3.8.3"
  }
 },
 "nbformat": 4,
 "nbformat_minor": 4
}
