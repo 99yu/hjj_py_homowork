{
 "cells": [
  {
   "cell_type": "markdown",
   "metadata": {},
   "source": [
    "## 3.1.5 表达式及语句\n",
    "### 1. 运算符及表达式\n",
    "&emsp;&emsp;Python语言提供了丰富的运算符，例如算术运算符、关系运算符、逻辑运算符等。\n",
    "\n",
    "&emsp;&emsp;表达式是数据对象和运算符按照一定的规则写出的式子，描述计算过程。与上述运算符对应的表达式可以分为算术表达式、关系表达式、逻辑表达式等。最简单的表达式可以是一个常量或一个变量。\n",
    "#### （1）算术运算\n",
    "&emsp;&emsp;Python提供的算术运算包括加、减、乘、除和求余运算，与数学中的算术运算的定义基本相同，不同的地方是Python支持的除法区分为普通的除法和整除。\n",
    "\n",
    "&emsp;&emsp;**例3-1-8** 整数的除法和整除运算示例"
   ]
  },
  {
   "cell_type": "code",
   "execution_count": 1,
   "metadata": {},
   "outputs": [],
   "source": [
    "x=8"
   ]
  },
  {
   "cell_type": "code",
   "execution_count": 2,
   "metadata": {},
   "outputs": [],
   "source": [
    "y=5"
   ]
  },
  {
   "cell_type": "code",
   "execution_count": 3,
   "metadata": {},
   "outputs": [
    {
     "data": {
      "text/plain": [
       "1.6"
      ]
     },
     "execution_count": 3,
     "metadata": {},
     "output_type": "execute_result"
    }
   ],
   "source": [
    "x/y     #普通除法"
   ]
  },
  {
   "cell_type": "code",
   "execution_count": 4,
   "metadata": {},
   "outputs": [
    {
     "data": {
      "text/plain": [
       "1"
      ]
     },
     "execution_count": 4,
     "metadata": {},
     "output_type": "execute_result"
    }
   ],
   "source": [
    "x//y    #整除取整数商"
   ]
  },
  {
   "cell_type": "code",
   "execution_count": 5,
   "metadata": {},
   "outputs": [
    {
     "data": {
      "text/plain": [
       "3"
      ]
     },
     "execution_count": 5,
     "metadata": {},
     "output_type": "execute_result"
    }
   ],
   "source": [
    "x%y    #整除取余数"
   ]
  },
  {
   "cell_type": "markdown",
   "metadata": {},
   "source": [
    "#### （2）关系运算\n",
    "&emsp;&emsp;数值运算的关系表达式由数值数据对象和关系运算符构成，得到的结果为True或False布尔类型数据，一般形式为：\n",
    "&emsp;&emsp;<center><数值1><关系运算符><数值2></center>\n",
    "&emsp;&emsp;关系运算符包括<、<=、>、>=、==、!=，分别表示小于、小于等于、大于、大于等于、等于和不等于。其中要注意等于运算符“==”和赋值符号“=”的区别，初学者常犯的错误就是以“=”来表示“==”的关系。\n",
    "<br>\n",
    "\n",
    "&emsp;&emsp;**例3-1-9** 区别赋值运算 “=”与关系相等运算“==”"
   ]
  },
  {
   "cell_type": "code",
   "execution_count": 40,
   "metadata": {},
   "outputs": [
    {
     "ename": "SyntaxError",
     "evalue": "cannot assign to literal (<ipython-input-40-3d5306166bd5>, line 1)",
     "output_type": "error",
     "traceback": [
      "\u001b[1;36m  File \u001b[1;32m\"<ipython-input-40-3d5306166bd5>\"\u001b[1;36m, line \u001b[1;32m1\u001b[0m\n\u001b[1;33m    20=20\u001b[0m\n\u001b[1;37m    ^\u001b[0m\n\u001b[1;31mSyntaxError\u001b[0m\u001b[1;31m:\u001b[0m cannot assign to literal\n"
     ]
    }
   ],
   "source": [
    "20=20"
   ]
  },
  {
   "cell_type": "code",
   "execution_count": 7,
   "metadata": {},
   "outputs": [],
   "source": [
    "x=10"
   ]
  },
  {
   "cell_type": "code",
   "execution_count": 8,
   "metadata": {},
   "outputs": [],
   "source": [
    "y=x"
   ]
  },
  {
   "cell_type": "code",
   "execution_count": 9,
   "metadata": {},
   "outputs": [
    {
     "data": {
      "text/plain": [
       "10"
      ]
     },
     "execution_count": 9,
     "metadata": {},
     "output_type": "execute_result"
    }
   ],
   "source": [
    "y"
   ]
  },
  {
   "cell_type": "code",
   "execution_count": 10,
   "metadata": {},
   "outputs": [
    {
     "data": {
      "text/plain": [
       "True"
      ]
     },
     "execution_count": 10,
     "metadata": {},
     "output_type": "execute_result"
    }
   ],
   "source": [
    "x==y"
   ]
  },
  {
   "cell_type": "markdown",
   "metadata": {},
   "source": [
    "&emsp;&emsp;在Python中还允许使用级联比较形式，可用 “a<=b<=c” 形式表示a、b、c三者之间的大小关系。\n",
    "\n",
    "&emsp;&emsp;**例3-1-10** 级联比较形式示例"
   ]
  },
  {
   "cell_type": "code",
   "execution_count": 11,
   "metadata": {},
   "outputs": [],
   "source": [
    "a=10"
   ]
  },
  {
   "cell_type": "code",
   "execution_count": 12,
   "metadata": {},
   "outputs": [],
   "source": [
    "b=20"
   ]
  },
  {
   "cell_type": "code",
   "execution_count": 13,
   "metadata": {},
   "outputs": [],
   "source": [
    "c=30"
   ]
  },
  {
   "cell_type": "code",
   "execution_count": 14,
   "metadata": {},
   "outputs": [
    {
     "data": {
      "text/plain": [
       "True"
      ]
     },
     "execution_count": 14,
     "metadata": {},
     "output_type": "execute_result"
    }
   ],
   "source": [
    "a<=b<=c"
   ]
  },
  {
   "cell_type": "markdown",
   "metadata": {},
   "source": [
    "&emsp;&emsp;对浮点数据进行相等的关系运算时，不能直接用等于“==”操作。浮点数类型能够进行高精度的计算，但是由于浮点数在计算机内是用固定长度的二进制表示，有些数可能没有办法精确的表示，计算会引起误差。\n",
    "<br>\n",
    "\n",
    "&emsp;&emsp;**例3-1-11** 浮点数的误差示例"
   ]
  },
  {
   "cell_type": "code",
   "execution_count": 15,
   "metadata": {},
   "outputs": [],
   "source": [
    "x=3.141592627"
   ]
  },
  {
   "cell_type": "code",
   "execution_count": 16,
   "metadata": {},
   "outputs": [
    {
     "data": {
      "text/plain": [
       "0.0015926269999999576"
      ]
     },
     "execution_count": 16,
     "metadata": {},
     "output_type": "execute_result"
    }
   ],
   "source": [
    "x-3.14           #表达式x-3.14并没有得到0.001592627，结果略小一些"
   ]
  },
  {
   "cell_type": "code",
   "execution_count": 17,
   "metadata": {},
   "outputs": [
    {
     "data": {
      "text/plain": [
       "0.10000000000000009"
      ]
     },
     "execution_count": 17,
     "metadata": {},
     "output_type": "execute_result"
    }
   ],
   "source": [
    "2.1-2.0          #结果又略大了一些"
   ]
  },
  {
   "cell_type": "markdown",
   "metadata": {},
   "source": [
    "&emsp;&emsp;从这个例子可以得到一条经验：不能用“==”来判断两个浮点数是否相等，而是要检查两个浮点数的差值是否足够小，从而判定是否相等。\n",
    "<br>\n",
    "\n",
    "&emsp;&emsp;**例3-1-12** 判断两个浮点数是否相等示例"
   ]
  },
  {
   "cell_type": "code",
   "execution_count": 18,
   "metadata": {},
   "outputs": [
    {
     "data": {
      "text/plain": [
       "False"
      ]
     },
     "execution_count": 18,
     "metadata": {},
     "output_type": "execute_result"
    }
   ],
   "source": [
    "2.1-2.0==0.1"
   ]
  },
  {
   "cell_type": "code",
   "execution_count": 19,
   "metadata": {},
   "outputs": [],
   "source": [
    "esp=0.000000001"
   ]
  },
  {
   "cell_type": "code",
   "execution_count": 20,
   "metadata": {},
   "outputs": [
    {
     "data": {
      "text/plain": [
       "True"
      ]
     },
     "execution_count": 20,
     "metadata": {},
     "output_type": "execute_result"
    }
   ],
   "source": [
    "abs((2.1-2.0)-0.1)<esp    #abs()为内置函数，求绝对值"
   ]
  },
  {
   "attachments": {
    "image.png": {
     "image/png": "[encoded data removed]"
    }
   },
   "cell_type": "markdown",
   "metadata": {},
   "source": [
    "#### （3）逻辑运算\n",
    "&emsp;&emsp;关系运算只能表示简单的布尔判断，复杂的布尔表达式还需要逻辑表达式来构成。逻辑表达式通过逻辑运算：与（and）、或（or）、非（not），可以将简单的布尔表达式联结起来，构成更为复杂的逻辑判断，如表3-1-3所示为逻辑运算的真值表。\n",
    "![image.png](attachment:image.png)\n",
    "&emsp;&emsp;**例3-1-13** 判断某一年是否是闰年\n",
    "\n",
    "&emsp;&emsp;符合下面两个条件之一就属于闰年：\n",
    "* 该年能被4整除但不能被100整除\n",
    "* 该年能被400整除"
   ]
  },
  {
   "cell_type": "code",
   "execution_count": 21,
   "metadata": {},
   "outputs": [],
   "source": [
    "y=2010      # y两个条件都不符合"
   ]
  },
  {
   "cell_type": "code",
   "execution_count": 22,
   "metadata": {},
   "outputs": [
    {
     "data": {
      "text/plain": [
       "False"
      ]
     },
     "execution_count": 22,
     "metadata": {},
     "output_type": "execute_result"
    }
   ],
   "source": [
    "(y%4==0 and y%100!=0) or(y%400==0)"
   ]
  },
  {
   "cell_type": "code",
   "execution_count": 23,
   "metadata": {},
   "outputs": [],
   "source": [
    "y=2012      # y符合第一个条件"
   ]
  },
  {
   "cell_type": "code",
   "execution_count": 24,
   "metadata": {},
   "outputs": [
    {
     "data": {
      "text/plain": [
       "True"
      ]
     },
     "execution_count": 24,
     "metadata": {},
     "output_type": "execute_result"
    }
   ],
   "source": [
    "(y%4==0 and y%100!=0) or(y%400==0)"
   ]
  },
  {
   "cell_type": "code",
   "execution_count": 25,
   "metadata": {},
   "outputs": [],
   "source": [
    "y=2000      # y符合第二个条件"
   ]
  },
  {
   "cell_type": "code",
   "execution_count": 26,
   "metadata": {},
   "outputs": [
    {
     "data": {
      "text/plain": [
       "True"
      ]
     },
     "execution_count": 26,
     "metadata": {},
     "output_type": "execute_result"
    }
   ],
   "source": [
    "(y%4==0 and y%100!=0) or(y%400==0)"
   ]
  },
  {
   "cell_type": "markdown",
   "metadata": {},
   "source": [
    "### 2. 语句\n",
    "&emsp;&emsp;语句是程序最基本的执行单位，程序的功能就是通过执行一系列语句来实现的。Python语言中的语句分为简单语句和复合语句。\n",
    "\n",
    "&emsp;&emsp;简单语句包括：表达式语句、赋值语句、输入输出语句、函数调用语句、return语句、break语句、continue语句、import语句等。\n",
    "\n",
    "&emsp;&emsp;复合语句包括：if选择语句、while循环语句、for循环语句、函数定义等。\n",
    "\n",
    "#### （1）语句书写规则\n",
    "* Python语言通常一行一条语句，使用回车换行符分割。\n",
    "* 从第一列开始顶格书写，前面不能有多余空格。\n",
    "* 复合语句的构造体必须缩进。\n",
    "* 如果语句太长，可以使用反斜杠(\\)来实现多行语句。\n",
    "* 分号(;)可以用于就在一行书写多条语句。\n",
    "<br>\n",
    "\n",
    "&emsp;&emsp;**例3-1-14** 多行语句和多条语句"
   ]
  },
  {
   "cell_type": "markdown",
   "metadata": {},
   "source": [
    "#多行语句示例"
   ]
  },
  {
   "cell_type": "code",
   "execution_count": 27,
   "metadata": {},
   "outputs": [
    {
     "name": "stdout",
     "output_type": "stream",
     "text": [
      "Python is a programming language that lets you work quickly and integrate systems more effectively.\n"
     ]
    }
   ],
   "source": [
    "print(\"Python is a programming language that\\\n",
    " lets you work quickly\\\n",
    " and integrate systems more effectively.\")"
   ]
  },
  {
   "cell_type": "markdown",
   "metadata": {},
   "source": [
    "#多条语句示例"
   ]
  },
  {
   "cell_type": "code",
   "execution_count": 28,
   "metadata": {},
   "outputs": [],
   "source": [
    "a=0;b=0;c=0"
   ]
  },
  {
   "cell_type": "markdown",
   "metadata": {},
   "source": [
    "#### （2）注释\n",
    "&emsp;&emsp;Python语言中只提供了单行注释的符号。单行注释用\"#\"开始，Python在执行代码的时候会默认忽略\"#\"和该行中\"#\"后的所有内容。\n",
    "#### （3）赋值语句\n",
    "&emsp;&emsp;在Python中，变量只是一个名称。Python的赋值语句通过赋值符号“=”实现，用赋值符号将右边数据对象与左边的变量名建立了引用关系，其一般使用方法如下，尖括号的内容表示具体使用时需要替代：\n",
    "\n",
    "&emsp;&emsp;<变量>=<表达式>\n",
    "\n",
    "* 连续赋值\n",
    "\n",
    "&emsp;&emsp;Python支持多个变量连续赋值，连续赋值的实质是多个变量引用同一个数据对象。\n",
    "<br>\n",
    "\n",
    "&emsp;&emsp;**例3-1-15** 多个变量连续赋值"
   ]
  },
  {
   "cell_type": "code",
   "execution_count": 29,
   "metadata": {},
   "outputs": [],
   "source": [
    "x=y=10"
   ]
  },
  {
   "cell_type": "code",
   "execution_count": 30,
   "metadata": {},
   "outputs": [
    {
     "data": {
      "text/plain": [
       "(140709864552512, 140709864552512)"
      ]
     },
     "execution_count": 30,
     "metadata": {},
     "output_type": "execute_result"
    }
   ],
   "source": [
    "id(x),id(y)"
   ]
  },
  {
   "cell_type": "code",
   "execution_count": 31,
   "metadata": {},
   "outputs": [
    {
     "data": {
      "text/plain": [
       "(10, 10)"
      ]
     },
     "execution_count": 31,
     "metadata": {},
     "output_type": "execute_result"
    }
   ],
   "source": [
    "x,y"
   ]
  },
  {
   "cell_type": "markdown",
   "metadata": {},
   "source": [
    "上述通过查看x、y两个变量的ID，ID都是相等的，说明两个变量引用了同一个整数数据对象10。"
   ]
  },
  {
   "cell_type": "markdown",
   "metadata": {},
   "source": [
    "* 同步赋值语句\n",
    "\n",
    "&emsp;&emsp;如果要在一条语句中同时赋予N个变量值，可以使用同步赋值语句，其使用方法为：\n",
    "\n",
    "&emsp;&emsp;<变量1>, <变量2>, ... , <变量N> = <表达式1>, <表达式2>, ... , <表达式N>\n",
    "\n",
    "&emsp;&emsp;Python语言在处理同步赋值语句的时候先运算右边的N个表达式，然后一次性把右边所有的表达式的值赋给左边的N个变量。\n",
    "<br>\n",
    "\n",
    "&emsp;&emsp;**例3-1-16** 同步赋值语句的使用示例"
   ]
  },
  {
   "cell_type": "code",
   "execution_count": 32,
   "metadata": {},
   "outputs": [],
   "source": [
    "x,y=10,20"
   ]
  },
  {
   "cell_type": "code",
   "execution_count": 33,
   "metadata": {},
   "outputs": [
    {
     "name": "stdout",
     "output_type": "stream",
     "text": [
      "交换前x= 10 y= 20\n"
     ]
    }
   ],
   "source": [
    "print(\"交换前x=\",x,\"y=\",y)"
   ]
  },
  {
   "cell_type": "code",
   "execution_count": 34,
   "metadata": {},
   "outputs": [],
   "source": [
    "x,y=y,x"
   ]
  },
  {
   "cell_type": "code",
   "execution_count": 35,
   "metadata": {},
   "outputs": [
    {
     "name": "stdout",
     "output_type": "stream",
     "text": [
      "交换后x= 20 y= 10\n"
     ]
    }
   ],
   "source": [
    "print(\"交换后x=\",x,\"y=\",y)"
   ]
  },
  {
   "attachments": {
    "image.png": {
     "image/png": "[encoded data removed]"
    }
   },
   "cell_type": "markdown",
   "metadata": {},
   "source": [
    "* 复合赋值语句\n",
    "\n",
    "&emsp;&emsp;将运算符和赋值符结合起来的运算符称为复合赋值语句，复合赋值语句可以简化代码，提高计算的效率。Python中的常用复合赋值符号如表3-1-4所示。\n",
    "![image.png](attachment:image.png)\n",
    "\n",
    "&emsp;&emsp;**例3-1-17** 复合赋值语句示例"
   ]
  },
  {
   "cell_type": "code",
   "execution_count": 36,
   "metadata": {},
   "outputs": [],
   "source": [
    "i=9"
   ]
  },
  {
   "cell_type": "code",
   "execution_count": 37,
   "metadata": {},
   "outputs": [],
   "source": [
    "i+=1"
   ]
  },
  {
   "cell_type": "code",
   "execution_count": 38,
   "metadata": {},
   "outputs": [],
   "source": [
    "i%=2"
   ]
  },
  {
   "cell_type": "code",
   "execution_count": 39,
   "metadata": {},
   "outputs": [
    {
     "data": {
      "text/plain": [
       "0"
      ]
     },
     "execution_count": 39,
     "metadata": {},
     "output_type": "execute_result"
    }
   ],
   "source": [
    "i"
   ]
  }
 ],
 "metadata": {
  "kernelspec": {
   "display_name": "Python 3",
   "language": "python",
   "name": "python3"
  },
  "language_info": {
   "codemirror_mode": {
    "name": "ipython",
    "version": 3
   },
   "file_extension": ".py",
   "mimetype": "text/x-python",
   "name": "python",
   "nbconvert_exporter": "python",
   "pygments_lexer": "ipython3",
   "version": "3.8.3"
  }
 },
 "nbformat": 4,
 "nbformat_minor": 4
}
