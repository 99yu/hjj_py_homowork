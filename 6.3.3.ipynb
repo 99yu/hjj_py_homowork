{
 "cells": [
  {
   "cell_type": "markdown",
   "metadata": {},
   "source": [
    "## 6.3.3 模型优化\n",
    "&emsp;&emsp;对于同一个数据集，神经网络模型如果想获得更好的分类效果，可以增加数据集的输入特征数量、增加隐藏层神经元数目和隐藏层层数。然而，现实中很难找到更多合理的表现数据内在特性的属性特征作为输入。那么，在输入的特征数目不变时，可行性的方法包括：\n",
    "- 增加隐藏层神经元的数目；\n",
    "- 增加隐藏层的层数。\n",
    "\n",
    "### 1. 增加隐藏层神经元的数目\n",
    "\n",
    "&emsp;&emsp;**例6-3-3** 在例6-3-2的基础上，通过增加隐藏层神经元数目，对Fashion MNIST数据集进行分类，提高准确率。为了增加神经网络模型的分类准确率，本例将简单版程序模型中的隐藏层神经元数目增加至500，修改后神经网络模型的代码如下。"
   ]
  },
  {
   "cell_type": "code",
   "execution_count": 1,
   "metadata": {},
   "outputs": [],
   "source": [
    "#（1）导入TensorFlow\n",
    "import tensorflow as tf"
   ]
  },
  {
   "cell_type": "code",
   "execution_count": 2,
   "metadata": {},
   "outputs": [],
   "source": [
    "#（2）载入Fashion-MNIST 数据集\n",
    "fashion_mnist = tf.keras.datasets.fashion_mnist\n",
    "(X_train, y_train), (X_test, y_test) = fashion_mnist.load_data()"
   ]
  },
  {
   "cell_type": "code",
   "execution_count": 3,
   "metadata": {},
   "outputs": [],
   "source": [
    "#（3）利用reshape函数转换数字图像\n",
    "X_train_reshape = X_train.reshape(X_train.shape[0], 28*28)\n",
    "X_test_reshape = X_test.reshape(X_test.shape[0], 28*28)"
   ]
  },
  {
   "cell_type": "code",
   "execution_count": 4,
   "metadata": {},
   "outputs": [],
   "source": [
    "#（4）标准化数字图像\n",
    "X_train_norm, X_test_norm = X_train_reshape / 255.0, X_test_reshape / 255.0"
   ]
  },
  {
   "cell_type": "code",
   "execution_count": 5,
   "metadata": {},
   "outputs": [
    {
     "name": "stdout",
     "output_type": "stream",
     "text": [
      "Model: \"sequential\"\n",
      "_________________________________________________________________\n",
      "Layer (type)                 Output Shape              Param #   \n",
      "=================================================================\n",
      "Hidden (Dense)               (None, 500)               392500    \n",
      "_________________________________________________________________\n",
      "Output (Dense)               (None, 10)                5010      \n",
      "=================================================================\n",
      "Total params: 397,510\n",
      "Trainable params: 397,510\n",
      "Non-trainable params: 0\n",
      "_________________________________________________________________\n",
      "None\n"
     ]
    }
   ],
   "source": [
    "#（5）构建Sequential模型\n",
    "model = tf.keras.models.Sequential()\n",
    "model.add(tf.keras.layers.Dense(500,input_dim=28*28,activation='relu',name='Hidden'))   #修改代码，隐藏层神经元数目增加至500\n",
    "model.add(tf.keras.layers.Dense(10,activation='softmax',name='Output'))\n",
    "\n",
    "#打印模型的概况\n",
    "print(model.summary())"
   ]
  },
  {
   "cell_type": "code",
   "execution_count": 6,
   "metadata": {},
   "outputs": [],
   "source": [
    "#（6）模型编译\n",
    "model.compile(optimizer='adam',\n",
    "              loss='sparse_categorical_crossentropy',\n",
    "              metrics=['accuracy'])"
   ]
  },
  {
   "cell_type": "code",
   "execution_count": 7,
   "metadata": {},
   "outputs": [
    {
     "name": "stdout",
     "output_type": "stream",
     "text": [
      "Epoch 1/10\n",
      "1875/1875 [==============================] - 5s 3ms/step - loss: 0.5873 - accuracy: 0.7933\n",
      "Epoch 2/10\n",
      "1875/1875 [==============================] - 5s 2ms/step - loss: 0.3660 - accuracy: 0.8649\n",
      "Epoch 3/10\n",
      "1875/1875 [==============================] - 5s 2ms/step - loss: 0.3212 - accuracy: 0.8823\n",
      "Epoch 4/10\n",
      "1875/1875 [==============================] - 5s 2ms/step - loss: 0.2989 - accuracy: 0.8891\n",
      "Epoch 5/10\n",
      "1875/1875 [==============================] - 4s 2ms/step - loss: 0.2798 - accuracy: 0.8969\n",
      "Epoch 6/10\n",
      "1875/1875 [==============================] - 5s 2ms/step - loss: 0.2594 - accuracy: 0.9038\n",
      "Epoch 7/10\n",
      "1875/1875 [==============================] - 5s 2ms/step - loss: 0.2477 - accuracy: 0.9076\n",
      "Epoch 8/10\n",
      "1875/1875 [==============================] - 5s 2ms/step - loss: 0.2357 - accuracy: 0.9131\n",
      "Epoch 9/10\n",
      "1875/1875 [==============================] - 5s 2ms/step - loss: 0.2255 - accuracy: 0.9136\n",
      "Epoch 10/10\n",
      "1875/1875 [==============================] - 5s 2ms/step - loss: 0.2243 - accuracy: 0.9159\n"
     ]
    },
    {
     "data": {
      "text/plain": [
       "<tensorflow.python.keras.callbacks.History at 0x1b530dd3700>"
      ]
     },
     "execution_count": 7,
     "metadata": {},
     "output_type": "execute_result"
    }
   ],
   "source": [
    "#（7）模型训练 \n",
    "model.fit(X_train_norm, y_train, epochs=10 , verbose=1)"
   ]
  },
  {
   "cell_type": "markdown",
   "metadata": {},
   "source": [
    "&emsp;&emsp;该神经网络在其他结构不变的情况下，只将Hidden层的神经元数目从50个增加到500个，准确率上升到0.9159。"
   ]
  },
  {
   "cell_type": "markdown",
   "metadata": {},
   "source": [
    "### 2. 增加隐藏层的层数\n",
    "\n",
    "&emsp;&emsp;**例6-3-4** 在例6-3-2的基础上，通过增加隐藏层层数，对Fashion MNIST数据集进行分类，提高准确率。为了增加神经网络模型的分类准确率，本例将简单版程序（fl6-3-2-1）模型中隐藏层增加至3层，每层50个神经元，修改后神经网络模型的代码如下。"
   ]
  },
  {
   "cell_type": "code",
   "execution_count": 1,
   "metadata": {},
   "outputs": [],
   "source": [
    "#（1）导入TensorFlow\n",
    "import tensorflow as tf"
   ]
  },
  {
   "cell_type": "code",
   "execution_count": 2,
   "metadata": {},
   "outputs": [],
   "source": [
    "#（2）载入Fashion-MNIST数据集\n",
    "fashion_mnist = tf.keras.datasets.fashion_mnist\n",
    "(X_train, y_train), (X_test, y_test) = fashion_mnist.load_data()"
   ]
  },
  {
   "cell_type": "code",
   "execution_count": 3,
   "metadata": {},
   "outputs": [],
   "source": [
    "#（3）利用reshape函数转换数字图像\n",
    "X_train_reshape = X_train.reshape(X_train.shape[0], 28*28)\n",
    "X_test_reshape = X_test.reshape(X_test.shape[0], 28*28)"
   ]
  },
  {
   "cell_type": "code",
   "execution_count": 4,
   "metadata": {},
   "outputs": [],
   "source": [
    "#（4）标准化数字图像\n",
    "X_train_norm, X_test_norm = X_train_reshape / 255.0, X_test_reshape / 255.0"
   ]
  },
  {
   "cell_type": "code",
   "execution_count": 5,
   "metadata": {},
   "outputs": [
    {
     "name": "stdout",
     "output_type": "stream",
     "text": [
      "Model: \"sequential\"\n",
      "_________________________________________________________________\n",
      "Layer (type)                 Output Shape              Param #   \n",
      "=================================================================\n",
      "Hidden1 (Dense)              (None, 50)                39250     \n",
      "_________________________________________________________________\n",
      "Hidden2 (Dense)              (None, 50)                2550      \n",
      "_________________________________________________________________\n",
      "Hidden3 (Dense)              (None, 50)                2550      \n",
      "_________________________________________________________________\n",
      "Output (Dense)               (None, 10)                510       \n",
      "=================================================================\n",
      "Total params: 44,860\n",
      "Trainable params: 44,860\n",
      "Non-trainable params: 0\n",
      "_________________________________________________________________\n",
      "None\n"
     ]
    }
   ],
   "source": [
    "#（5）构建Sequential模型\n",
    "model = tf.keras.models.Sequential()\n",
    "model.add(tf.keras.layers.Dense(50,input_dim=28*28,activation='relu',name='Hidden1'))          #修改代码，隐藏层增加至3层，每层50个神经元\n",
    "model.add(tf.keras.layers.Dense(50,activation='relu',name='Hidden2'))                          #修改代码，隐藏层增加至3层，每层50个神经元\n",
    "model.add(tf.keras.layers.Dense(50,activation='relu',name='Hidden3'))                          #修改代码，隐藏层增加至3层，每层50个神经元\n",
    "model.add(tf.keras.layers.Dense(10,activation='softmax',name='Output'))\n",
    "\n",
    "#打印模型的概况\n",
    "print(model.summary())"
   ]
  },
  {
   "cell_type": "code",
   "execution_count": 6,
   "metadata": {},
   "outputs": [],
   "source": [
    "#（6）模型编译\n",
    "model.compile(optimizer='adam',\n",
    "              loss='sparse_categorical_crossentropy',\n",
    "              metrics=['accuracy'])"
   ]
  },
  {
   "cell_type": "code",
   "execution_count": 7,
   "metadata": {},
   "outputs": [
    {
     "name": "stdout",
     "output_type": "stream",
     "text": [
      "Epoch 1/10\n",
      "1875/1875 [==============================] - 3s 1ms/step - loss: 0.7207 - accuracy: 0.7462\n",
      "Epoch 2/10\n",
      "1875/1875 [==============================] - 2s 1ms/step - loss: 0.3910 - accuracy: 0.8594\n",
      "Epoch 3/10\n",
      "1875/1875 [==============================] - 2s 1ms/step - loss: 0.3535 - accuracy: 0.8712\n",
      "Epoch 4/10\n",
      "1875/1875 [==============================] - 2s 1ms/step - loss: 0.3367 - accuracy: 0.8763\n",
      "Epoch 5/10\n",
      "1875/1875 [==============================] - 2s 1ms/step - loss: 0.3097 - accuracy: 0.8857\n",
      "Epoch 6/10\n",
      "1875/1875 [==============================] - 2s 1ms/step - loss: 0.3028 - accuracy: 0.8882\n",
      "Epoch 7/10\n",
      "1875/1875 [==============================] - 2s 1ms/step - loss: 0.2916 - accuracy: 0.8911\n",
      "Epoch 8/10\n",
      "1875/1875 [==============================] - 2s 1ms/step - loss: 0.2777 - accuracy: 0.8949\n",
      "Epoch 9/10\n",
      "1875/1875 [==============================] - 2s 1ms/step - loss: 0.2723 - accuracy: 0.8986\n",
      "Epoch 10/10\n",
      "1875/1875 [==============================] - 2s 1ms/step - loss: 0.2602 - accuracy: 0.9016\n"
     ]
    },
    {
     "data": {
      "text/plain": [
       "<tensorflow.python.keras.callbacks.History at 0x24875e02bb0>"
      ]
     },
     "execution_count": 7,
     "metadata": {},
     "output_type": "execute_result"
    }
   ],
   "source": [
    "#（7）模型训练 \n",
    "model.fit(X_train_norm, y_train, epochs=10 , verbose=1)"
   ]
  }
 ],
 "metadata": {
  "kernelspec": {
   "display_name": "Python 3",
   "language": "python",
   "name": "python3"
  },
  "language_info": {
   "codemirror_mode": {
    "name": "ipython",
    "version": 3
   },
   "file_extension": ".py",
   "mimetype": "text/x-python",
   "name": "python",
   "nbconvert_exporter": "python",
   "pygments_lexer": "ipython3",
   "version": "3.8.3"
  }
 },
 "nbformat": 4,
 "nbformat_minor": 4
}
