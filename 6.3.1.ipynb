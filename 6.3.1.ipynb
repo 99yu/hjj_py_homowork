{
 "cells": [
  {
   "cell_type": "markdown",
   "metadata": {},
   "source": [
    "## 6.3.1 TensorFlow简介\n",
    "#### （1）安装TensorFlow\n",
    "#### （2）查看版本信息\n",
    "&emsp;&emsp;打开Jupyter Notebook (Anaconda3)，新建一个Python 3的Notebook，输入如下代码检验TensorFlow是否安装成功并显示TensorFlow和Keras的版本信息。Jupyter Notebook是一种基于网页的方便用户交互的应用程序，可以在网页直接编写并运行代码，代码运行结果会在代码块下面直接显示（如图6-3-2所示），方便深度学习的参数调整和结果显示，因此本章程序采用Jupyter Notebook进行运行和测试，关于Jupyter Notebook的使用可参见教材2.4.5节。\n",
    "<br>\n",
    "\n",
    "&emsp;&emsp;**例6-3-1** 查看TensorFlow和Keras的版本信息。"
   ]
  },
  {
   "cell_type": "code",
   "execution_count": 8,
   "metadata": {},
   "outputs": [],
   "source": [
    "# 导入tensorflow\n",
    "import tensorflow as tf"
   ]
  },
  {
   "cell_type": "code",
   "execution_count": 6,
   "metadata": {},
   "outputs": [
    {
     "name": "stdout",
     "output_type": "stream",
     "text": [
      "tf version: 2.4.0\n"
     ]
    }
   ],
   "source": [
    "# 打印tensorflow的版本信息\n",
    "print('tf version:',tf.__version__)"
   ]
  },
  {
   "cell_type": "code",
   "execution_count": 9,
   "metadata": {},
   "outputs": [
    {
     "name": "stdout",
     "output_type": "stream",
     "text": [
      "keras version: 2.4.0\n"
     ]
    }
   ],
   "source": [
    "# 打印keras的版本信息\n",
    "print('keras version:',tf.keras.__version__)"
   ]
  }
 ],
 "metadata": {
  "kernelspec": {
   "display_name": "Python 3",
   "language": "python",
   "name": "python3"
  },
  "language_info": {
   "codemirror_mode": {
    "name": "ipython",
    "version": 3
   },
   "file_extension": ".py",
   "mimetype": "text/x-python",
   "name": "python",
   "nbconvert_exporter": "python",
   "pygments_lexer": "ipython3",
   "version": "3.8.3"
  }
 },
 "nbformat": 4,
 "nbformat_minor": 4
}
