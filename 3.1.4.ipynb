{
 "cells": [
  {
   "cell_type": "markdown",
   "metadata": {},
   "source": [
    "## 3.1.4 基本数据类型\n",
    "&emsp;&emsp;Python的基本数据类型包括3种数字类型：整型（int）、浮点型（float）和复数（complex），以及表示逻辑值的布尔类型（bool）。\n",
    "### 1. 整型数据int\n",
    "&emsp;&emsp;与数学中的整数概念一致，在Python 3.X里只有一种整数类型 int。Python的整数在理论上没有取值范围限制，实际上的取值范围受限于使用的计算机的内存大小。\n",
    "\n",
    "&emsp;&emsp;整数类型可以用4种进制表示，分别为：十进制、二进制、八进制和十六进制。如表3-1-1所示，默认情况下采用十进制，其它进制使用时需要增加引导符号加以区别。\n",
    "\n",
    "<center>表 3-1 1整数的四种进制表示</center>\n",
    "\n",
    "<style>table {margin: auto;}</style>\n",
    "|进制|引导符号|说明|\n",
    "|:-:|:-:|:-:|\n",
    "|十进制|无|默认，例如：100，-100|\n",
    "|二进制|0B或0b|用数字0和1来表示，例如：0b1011，0B1011|\n",
    "|八进制|0o或0O|用数字0-7来表示，例如：0o701，0O701|\n",
    "|十六进制|0x或0X|用数字0-9和字母A-F或a-f来表示，例如：0x10AB，0X10AB|\n",
    "\n",
    "&emsp;&emsp;**例3-1-3** int数据示例"
   ]
  },
  {
   "cell_type": "code",
   "execution_count": 1,
   "metadata": {},
   "outputs": [
    {
     "data": {
      "text/plain": [
       "100"
      ]
     },
     "execution_count": 1,
     "metadata": {},
     "output_type": "execute_result"
    }
   ],
   "source": [
    "100"
   ]
  },
  {
   "cell_type": "code",
   "execution_count": 2,
   "metadata": {},
   "outputs": [
    {
     "data": {
      "text/plain": [
       "95"
      ]
     },
     "execution_count": 2,
     "metadata": {},
     "output_type": "execute_result"
    }
   ],
   "source": [
    "0o137"
   ]
  },
  {
   "cell_type": "code",
   "execution_count": 3,
   "metadata": {},
   "outputs": [
    {
     "data": {
      "text/plain": [
       "7"
      ]
     },
     "execution_count": 3,
     "metadata": {},
     "output_type": "execute_result"
    }
   ],
   "source": [
    "0b111"
   ]
  },
  {
   "cell_type": "code",
   "execution_count": 4,
   "metadata": {},
   "outputs": [
    {
     "data": {
      "text/plain": [
       "255"
      ]
     },
     "execution_count": 4,
     "metadata": {},
     "output_type": "execute_result"
    }
   ],
   "source": [
    "0xff"
   ]
  },
  {
   "cell_type": "code",
   "execution_count": 5,
   "metadata": {},
   "outputs": [
    {
     "data": {
      "text/plain": [
       "int"
      ]
     },
     "execution_count": 5,
     "metadata": {},
     "output_type": "execute_result"
    }
   ],
   "source": [
    "type(28346283742874)"
   ]
  },
  {
   "cell_type": "code",
   "execution_count": 6,
   "metadata": {},
   "outputs": [
    {
     "data": {
      "text/plain": [
       "int"
      ]
     },
     "execution_count": 6,
     "metadata": {},
     "output_type": "execute_result"
    }
   ],
   "source": [
    "type(0o137)"
   ]
  },
  {
   "cell_type": "markdown",
   "metadata": {},
   "source": [
    "### 2. 浮点型数据float\n",
    "&emsp;&emsp;浮点类型数据表示存在小数部分的数据，支持小数形式表示和指数形式表示。\n",
    "\n",
    "&emsp;&emsp;在Python中要求浮点数必须带有小数部分，小数部分可以是0。例如12是整数，12.0就是浮点数。\n",
    "\n",
    "&emsp;&emsp;科学计数法由正号、负号、数字和字母e（或E）组成，e是指数标志，表示以10为基数。在e之前要有数值，e之后的指数只能是整数。8.9e-4表示8.9×10-4 即0.00089。\n",
    "\n",
    "&emsp;&emsp;**例3-1-4** float数据示例"
   ]
  },
  {
   "cell_type": "code",
   "execution_count": 7,
   "metadata": {},
   "outputs": [
    {
     "data": {
      "text/plain": [
       "float"
      ]
     },
     "execution_count": 7,
     "metadata": {},
     "output_type": "execute_result"
    }
   ],
   "source": [
    "type(12.0)"
   ]
  },
  {
   "cell_type": "code",
   "execution_count": 8,
   "metadata": {},
   "outputs": [
    {
     "data": {
      "text/plain": [
       "0.00089"
      ]
     },
     "execution_count": 8,
     "metadata": {},
     "output_type": "execute_result"
    }
   ],
   "source": [
    "8.9e-4"
   ]
  },
  {
   "cell_type": "code",
   "execution_count": 9,
   "metadata": {},
   "outputs": [
    {
     "data": {
      "text/plain": [
       "float"
      ]
     },
     "execution_count": 9,
     "metadata": {},
     "output_type": "execute_result"
    }
   ],
   "source": [
    "type(1.2e1)"
   ]
  },
  {
   "cell_type": "markdown",
   "metadata": {},
   "source": [
    "&emsp;&emsp;计算机中的浮点数都是以近似值存储数据，Python的float类型数通常可提供至多15个数字的精度。\n",
    "<br>\n",
    "\n",
    "&emsp;&emsp;**例3-1-5** float数据的精度示例"
   ]
  },
  {
   "cell_type": "code",
   "execution_count": 10,
   "metadata": {},
   "outputs": [
    {
     "data": {
      "text/plain": [
       "1.5241578750190519"
      ]
     },
     "execution_count": 10,
     "metadata": {},
     "output_type": "execute_result"
    }
   ],
   "source": [
    "1.23456789*1.23456789"
   ]
  },
  {
   "cell_type": "code",
   "execution_count": 11,
   "metadata": {},
   "outputs": [
    {
     "data": {
      "text/plain": [
       "15241578750190521"
      ]
     },
     "execution_count": 11,
     "metadata": {},
     "output_type": "execute_result"
    }
   ],
   "source": [
    "123456789*123456789"
   ]
  },
  {
   "cell_type": "markdown",
   "metadata": {},
   "source": [
    "### 3. 布尔类型数据bool\n",
    "&emsp;&emsp;Python的布尔类型数据只有两个：True和False，表示真和假。注意书写，首字母要大写。以True和False为值的表达式称为布尔表达式，用于表示某种条件是否成立，是选择控制和循环控制中必不可少的条件判断表达式。\n",
    "\n",
    "&emsp;&emsp;**例3-1-6** bool数据示例"
   ]
  },
  {
   "cell_type": "code",
   "execution_count": 12,
   "metadata": {},
   "outputs": [
    {
     "data": {
      "text/plain": [
       "bool"
      ]
     },
     "execution_count": 12,
     "metadata": {},
     "output_type": "execute_result"
    }
   ],
   "source": [
    "type(True)"
   ]
  },
  {
   "cell_type": "code",
   "execution_count": 13,
   "metadata": {},
   "outputs": [],
   "source": [
    "x,y=10,20"
   ]
  },
  {
   "cell_type": "code",
   "execution_count": 14,
   "metadata": {},
   "outputs": [
    {
     "data": {
      "text/plain": [
       "False"
      ]
     },
     "execution_count": 14,
     "metadata": {},
     "output_type": "execute_result"
    }
   ],
   "source": [
    "x>y"
   ]
  },
  {
   "cell_type": "code",
   "execution_count": 15,
   "metadata": {},
   "outputs": [
    {
     "data": {
      "text/plain": [
       "True"
      ]
     },
     "execution_count": 15,
     "metadata": {},
     "output_type": "execute_result"
    }
   ],
   "source": [
    "x+10<=y"
   ]
  },
  {
   "cell_type": "markdown",
   "metadata": {},
   "source": [
    "### 4. 复数类型数据complex\n",
    "&emsp;&emsp;Python提供复数类型数据，复数由实数部分（real）和虚数部分（image）构成，表示为：\n",
    "\n",
    "&emsp;&emsp;&emsp;&emsp;**real + imag（J/j后缀）**\n",
    "\n",
    "&emsp;&emsp;其中，实数部分和虚数部分都是浮点数。\n",
    "<br>\n",
    "\n",
    "&emsp;&emsp;**例3-1-7** complex数据的操作示例"
   ]
  },
  {
   "cell_type": "code",
   "execution_count": 16,
   "metadata": {},
   "outputs": [],
   "source": [
    "aComplex=4.23+8.5j"
   ]
  },
  {
   "cell_type": "code",
   "execution_count": 17,
   "metadata": {},
   "outputs": [
    {
     "data": {
      "text/plain": [
       "(4.23+8.5j)"
      ]
     },
     "execution_count": 17,
     "metadata": {},
     "output_type": "execute_result"
    }
   ],
   "source": [
    "aComplex"
   ]
  },
  {
   "cell_type": "code",
   "execution_count": 18,
   "metadata": {},
   "outputs": [
    {
     "data": {
      "text/plain": [
       "4.23"
      ]
     },
     "execution_count": 18,
     "metadata": {},
     "output_type": "execute_result"
    }
   ],
   "source": [
    "aComplex.real"
   ]
  },
  {
   "cell_type": "code",
   "execution_count": 19,
   "metadata": {},
   "outputs": [
    {
     "data": {
      "text/plain": [
       "8.5"
      ]
     },
     "execution_count": 19,
     "metadata": {},
     "output_type": "execute_result"
    }
   ],
   "source": [
    "aComplex.imag"
   ]
  }
 ],
 "metadata": {
  "kernelspec": {
   "display_name": "Python 3",
   "language": "python",
   "name": "python3"
  },
  "language_info": {
   "codemirror_mode": {
    "name": "ipython",
    "version": 3
   },
   "file_extension": ".py",
   "mimetype": "text/x-python",
   "name": "python",
   "nbconvert_exporter": "python",
   "pygments_lexer": "ipython3",
   "version": "3.8.3"
  }
 },
 "nbformat": 4,
 "nbformat_minor": 4
}
